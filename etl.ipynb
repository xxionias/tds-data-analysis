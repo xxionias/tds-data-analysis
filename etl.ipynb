{
 "cells": [
  {
   "cell_type": "code",
   "execution_count": 1,
   "id": "71189084",
   "metadata": {},
   "outputs": [],
   "source": [
    "import numpy as np\n",
    "import pandas as pd"
   ]
  },
  {
   "cell_type": "markdown",
   "id": "02bf8cd8",
   "metadata": {},
   "source": [
    "# Data Preprocessing for `articles` file"
   ]
  },
  {
   "cell_type": "code",
   "execution_count": 2,
   "id": "b694a8cb",
   "metadata": {},
   "outputs": [],
   "source": [
    "articles = pd.read_json('raw_data/articles/articles_07_04_2021.json')"
   ]
  },
  {
   "cell_type": "code",
   "execution_count": 3,
   "id": "b26f3aca",
   "metadata": {},
   "outputs": [
    {
     "data": {
      "text/html": [
       "<div>\n",
       "<style scoped>\n",
       "    .dataframe tbody tr th:only-of-type {\n",
       "        vertical-align: middle;\n",
       "    }\n",
       "\n",
       "    .dataframe tbody tr th {\n",
       "        vertical-align: top;\n",
       "    }\n",
       "\n",
       "    .dataframe thead th {\n",
       "        text-align: right;\n",
       "    }\n",
       "</style>\n",
       "<table border=\"1\" class=\"dataframe\">\n",
       "  <thead>\n",
       "    <tr style=\"text-align: right;\">\n",
       "      <th></th>\n",
       "      <th>author</th>\n",
       "      <th>linkOfAuthorProfile</th>\n",
       "      <th>articleTitle</th>\n",
       "      <th>articleLink</th>\n",
       "      <th>postingTime</th>\n",
       "      <th>minToRead</th>\n",
       "      <th>recommendations</th>\n",
       "      <th>responses</th>\n",
       "    </tr>\n",
       "  </thead>\n",
       "  <tbody>\n",
       "    <tr>\n",
       "      <th>6190</th>\n",
       "      <td>Mohan Gupta</td>\n",
       "      <td>https://towardsdatascience.com/@mohangupta13?s...</td>\n",
       "      <td>A Review of Named Entity Recognition (NER) Usi...</td>\n",
       "      <td>https://towardsdatascience.com/a-review-of-nam...</td>\n",
       "      <td>Jul 9, 2018</td>\n",
       "      <td>11 min read</td>\n",
       "      <td>724</td>\n",
       "      <td>11 responses</td>\n",
       "    </tr>\n",
       "    <tr>\n",
       "      <th>31346</th>\n",
       "      <td>Charmaine Chui</td>\n",
       "      <td>https://towardsdatascience.com/@geek-cc?source...</td>\n",
       "      <td>Using Turf.js to Geocode coordinates with cust...</td>\n",
       "      <td>https://towardsdatascience.com/using-turf-js-t...</td>\n",
       "      <td>Jun 22</td>\n",
       "      <td>3 min read</td>\n",
       "      <td>1</td>\n",
       "      <td>None</td>\n",
       "    </tr>\n",
       "    <tr>\n",
       "      <th>36150</th>\n",
       "      <td>German Osin</td>\n",
       "      <td>https://towardsdatascience.com/@gosin?source=c...</td>\n",
       "      <td>Feature Store as a Foundation for Machine Lear...</td>\n",
       "      <td>https://towardsdatascience.com/feature-store-a...</td>\n",
       "      <td>Dec 10, 2020</td>\n",
       "      <td>12 min read</td>\n",
       "      <td>483</td>\n",
       "      <td>2 responses</td>\n",
       "    </tr>\n",
       "    <tr>\n",
       "      <th>8613</th>\n",
       "      <td>Federico Riveroll</td>\n",
       "      <td>https://towardsdatascience.com/@federicorivero...</td>\n",
       "      <td>Outstanding results predicting Apple Stock app...</td>\n",
       "      <td>https://towardsdatascience.com/making-a-contin...</td>\n",
       "      <td>Feb 13, 2020</td>\n",
       "      <td>9 min read</td>\n",
       "      <td>1.5K</td>\n",
       "      <td>18 responses</td>\n",
       "    </tr>\n",
       "    <tr>\n",
       "      <th>20745</th>\n",
       "      <td>Shai Ardazi</td>\n",
       "      <td>https://towardsdatascience.com/@shaiardazi?sou...</td>\n",
       "      <td>Web scraping with Python — A to Z</td>\n",
       "      <td>https://towardsdatascience.com/web-scraping-wi...</td>\n",
       "      <td>Feb 7, 2019</td>\n",
       "      <td>13 min read</td>\n",
       "      <td>298</td>\n",
       "      <td>3 responses</td>\n",
       "    </tr>\n",
       "  </tbody>\n",
       "</table>\n",
       "</div>"
      ],
      "text/plain": [
       "                  author                                linkOfAuthorProfile  \\\n",
       "6190         Mohan Gupta  https://towardsdatascience.com/@mohangupta13?s...   \n",
       "31346     Charmaine Chui  https://towardsdatascience.com/@geek-cc?source...   \n",
       "36150        German Osin  https://towardsdatascience.com/@gosin?source=c...   \n",
       "8613   Federico Riveroll  https://towardsdatascience.com/@federicorivero...   \n",
       "20745        Shai Ardazi  https://towardsdatascience.com/@shaiardazi?sou...   \n",
       "\n",
       "                                            articleTitle  \\\n",
       "6190   A Review of Named Entity Recognition (NER) Usi...   \n",
       "31346  Using Turf.js to Geocode coordinates with cust...   \n",
       "36150  Feature Store as a Foundation for Machine Lear...   \n",
       "8613   Outstanding results predicting Apple Stock app...   \n",
       "20745                  Web scraping with Python — A to Z   \n",
       "\n",
       "                                             articleLink   postingTime  \\\n",
       "6190   https://towardsdatascience.com/a-review-of-nam...   Jul 9, 2018   \n",
       "31346  https://towardsdatascience.com/using-turf-js-t...        Jun 22   \n",
       "36150  https://towardsdatascience.com/feature-store-a...  Dec 10, 2020   \n",
       "8613   https://towardsdatascience.com/making-a-contin...  Feb 13, 2020   \n",
       "20745  https://towardsdatascience.com/web-scraping-wi...   Feb 7, 2019   \n",
       "\n",
       "         minToRead recommendations     responses  \n",
       "6190   11 min read             724  11 responses  \n",
       "31346   3 min read               1          None  \n",
       "36150  12 min read             483   2 responses  \n",
       "8613    9 min read            1.5K  18 responses  \n",
       "20745  13 min read             298   3 responses  "
      ]
     },
     "execution_count": 3,
     "metadata": {},
     "output_type": "execute_result"
    }
   ],
   "source": [
    "articles.sample(5)"
   ]
  },
  {
   "cell_type": "markdown",
   "id": "27a92d64",
   "metadata": {},
   "source": [
    "## Inspect missing columns"
   ]
  },
  {
   "cell_type": "code",
   "execution_count": 4,
   "id": "06fdb565",
   "metadata": {},
   "outputs": [],
   "source": [
    " # Define the function which checks missing data and types of data\n",
    "def missing_data(data):\n",
    "    total = data.isnull().sum()\n",
    "    percent = (data.isnull().sum()/data.isnull().count()*100)\n",
    "    tt = pd.concat([total, percent], axis=1, keys=['Total', 'Percent']) \n",
    "    types = []\n",
    "    for col in data.columns:\n",
    "        dtype = str(data[col].dtype)\n",
    "        types.append(dtype) \n",
    "    tt['Types'] = types \n",
    "    return(np.transpose(tt))"
   ]
  },
  {
   "cell_type": "code",
   "execution_count": 5,
   "id": "798a2f53",
   "metadata": {},
   "outputs": [
    {
     "data": {
      "text/html": [
       "<div>\n",
       "<style scoped>\n",
       "    .dataframe tbody tr th:only-of-type {\n",
       "        vertical-align: middle;\n",
       "    }\n",
       "\n",
       "    .dataframe tbody tr th {\n",
       "        vertical-align: top;\n",
       "    }\n",
       "\n",
       "    .dataframe thead th {\n",
       "        text-align: right;\n",
       "    }\n",
       "</style>\n",
       "<table border=\"1\" class=\"dataframe\">\n",
       "  <thead>\n",
       "    <tr style=\"text-align: right;\">\n",
       "      <th></th>\n",
       "      <th>author</th>\n",
       "      <th>linkOfAuthorProfile</th>\n",
       "      <th>articleTitle</th>\n",
       "      <th>articleLink</th>\n",
       "      <th>postingTime</th>\n",
       "      <th>minToRead</th>\n",
       "      <th>recommendations</th>\n",
       "      <th>responses</th>\n",
       "    </tr>\n",
       "  </thead>\n",
       "  <tbody>\n",
       "    <tr>\n",
       "      <th>Total</th>\n",
       "      <td>0</td>\n",
       "      <td>0</td>\n",
       "      <td>1461</td>\n",
       "      <td>0</td>\n",
       "      <td>0</td>\n",
       "      <td>1</td>\n",
       "      <td>268</td>\n",
       "      <td>22235</td>\n",
       "    </tr>\n",
       "    <tr>\n",
       "      <th>Percent</th>\n",
       "      <td>0.0</td>\n",
       "      <td>0.0</td>\n",
       "      <td>3.307151</td>\n",
       "      <td>0.0</td>\n",
       "      <td>0.0</td>\n",
       "      <td>0.002264</td>\n",
       "      <td>0.606651</td>\n",
       "      <td>50.331621</td>\n",
       "    </tr>\n",
       "    <tr>\n",
       "      <th>Types</th>\n",
       "      <td>object</td>\n",
       "      <td>object</td>\n",
       "      <td>object</td>\n",
       "      <td>object</td>\n",
       "      <td>object</td>\n",
       "      <td>object</td>\n",
       "      <td>object</td>\n",
       "      <td>object</td>\n",
       "    </tr>\n",
       "  </tbody>\n",
       "</table>\n",
       "</div>"
      ],
      "text/plain": [
       "         author linkOfAuthorProfile articleTitle articleLink postingTime  \\\n",
       "Total         0                   0         1461           0           0   \n",
       "Percent     0.0                 0.0     3.307151         0.0         0.0   \n",
       "Types    object              object       object      object      object   \n",
       "\n",
       "        minToRead recommendations  responses  \n",
       "Total           1             268      22235  \n",
       "Percent  0.002264        0.606651  50.331621  \n",
       "Types      object          object     object  "
      ]
     },
     "execution_count": 5,
     "metadata": {},
     "output_type": "execute_result"
    }
   ],
   "source": [
    "missing_data(articles)"
   ]
  },
  {
   "cell_type": "markdown",
   "id": "3638a1ef",
   "metadata": {},
   "source": [
    "## There's only one entry that doesn't have `minToRead`. It turns out to be a navigation article. So I decided to drop it."
   ]
  },
  {
   "cell_type": "code",
   "execution_count": 6,
   "id": "d9bd75f2",
   "metadata": {},
   "outputs": [
    {
     "data": {
      "text/html": [
       "<div>\n",
       "<style scoped>\n",
       "    .dataframe tbody tr th:only-of-type {\n",
       "        vertical-align: middle;\n",
       "    }\n",
       "\n",
       "    .dataframe tbody tr th {\n",
       "        vertical-align: top;\n",
       "    }\n",
       "\n",
       "    .dataframe thead th {\n",
       "        text-align: right;\n",
       "    }\n",
       "</style>\n",
       "<table border=\"1\" class=\"dataframe\">\n",
       "  <thead>\n",
       "    <tr style=\"text-align: right;\">\n",
       "      <th></th>\n",
       "      <th>author</th>\n",
       "      <th>linkOfAuthorProfile</th>\n",
       "      <th>articleTitle</th>\n",
       "      <th>articleLink</th>\n",
       "      <th>postingTime</th>\n",
       "      <th>minToRead</th>\n",
       "      <th>recommendations</th>\n",
       "      <th>responses</th>\n",
       "    </tr>\n",
       "  </thead>\n",
       "  <tbody>\n",
       "    <tr>\n",
       "      <th>40490</th>\n",
       "      <td>TDS Editors</td>\n",
       "      <td>https://towardsdatascience.com/@towardsdatasci...</td>\n",
       "      <td>Navigation</td>\n",
       "      <td>https://towardsdatascience.com/navigation-1f82...</td>\n",
       "      <td>Nov 14, 2020</td>\n",
       "      <td>None</td>\n",
       "      <td>298</td>\n",
       "      <td>None</td>\n",
       "    </tr>\n",
       "  </tbody>\n",
       "</table>\n",
       "</div>"
      ],
      "text/plain": [
       "            author                                linkOfAuthorProfile  \\\n",
       "40490  TDS Editors  https://towardsdatascience.com/@towardsdatasci...   \n",
       "\n",
       "      articleTitle                                        articleLink  \\\n",
       "40490   Navigation  https://towardsdatascience.com/navigation-1f82...   \n",
       "\n",
       "        postingTime minToRead recommendations responses  \n",
       "40490  Nov 14, 2020      None             298      None  "
      ]
     },
     "execution_count": 6,
     "metadata": {},
     "output_type": "execute_result"
    }
   ],
   "source": [
    "articles[articles['minToRead'].isnull()]"
   ]
  },
  {
   "cell_type": "code",
   "execution_count": 7,
   "id": "acd3c493",
   "metadata": {},
   "outputs": [],
   "source": [
    "articles = articles.dropna(subset=['minToRead'])"
   ]
  },
  {
   "cell_type": "markdown",
   "id": "9da5e09d",
   "metadata": {},
   "source": [
    "## Inspect `articleTitle` that has missing values"
   ]
  },
  {
   "cell_type": "code",
   "execution_count": 8,
   "id": "b0117ff3",
   "metadata": {},
   "outputs": [
    {
     "data": {
      "text/html": [
       "<div>\n",
       "<style scoped>\n",
       "    .dataframe tbody tr th:only-of-type {\n",
       "        vertical-align: middle;\n",
       "    }\n",
       "\n",
       "    .dataframe tbody tr th {\n",
       "        vertical-align: top;\n",
       "    }\n",
       "\n",
       "    .dataframe thead th {\n",
       "        text-align: right;\n",
       "    }\n",
       "</style>\n",
       "<table border=\"1\" class=\"dataframe\">\n",
       "  <thead>\n",
       "    <tr style=\"text-align: right;\">\n",
       "      <th></th>\n",
       "      <th>author</th>\n",
       "      <th>linkOfAuthorProfile</th>\n",
       "      <th>articleTitle</th>\n",
       "      <th>articleLink</th>\n",
       "      <th>postingTime</th>\n",
       "      <th>minToRead</th>\n",
       "      <th>recommendations</th>\n",
       "      <th>responses</th>\n",
       "    </tr>\n",
       "  </thead>\n",
       "  <tbody>\n",
       "    <tr>\n",
       "      <th>28876</th>\n",
       "      <td>Irfan Alghani Khalid</td>\n",
       "      <td>https://towardsdatascience.com/@irfanalghani11...</td>\n",
       "      <td>None</td>\n",
       "      <td>https://towardsdatascience.com/this-is-how-i-w...</td>\n",
       "      <td>May 12, 2020</td>\n",
       "      <td>4 min read</td>\n",
       "      <td>294</td>\n",
       "      <td>1 response</td>\n",
       "    </tr>\n",
       "    <tr>\n",
       "      <th>41025</th>\n",
       "      <td>Rose Day</td>\n",
       "      <td>https://towardsdatascience.com/@rjday?source=c...</td>\n",
       "      <td>None</td>\n",
       "      <td>https://towardsdatascience.com/understanding-t...</td>\n",
       "      <td>Nov 7, 2020</td>\n",
       "      <td>6 min read</td>\n",
       "      <td>48</td>\n",
       "      <td>None</td>\n",
       "    </tr>\n",
       "    <tr>\n",
       "      <th>20910</th>\n",
       "      <td>Jo Stichbury</td>\n",
       "      <td>https://towardsdatascience.com/@fluffymaccoy?s...</td>\n",
       "      <td>None</td>\n",
       "      <td>https://towardsdatascience.com/anzograph-a-w3c...</td>\n",
       "      <td>Feb 8, 2019</td>\n",
       "      <td>7 min read</td>\n",
       "      <td>77</td>\n",
       "      <td>None</td>\n",
       "    </tr>\n",
       "    <tr>\n",
       "      <th>24640</th>\n",
       "      <td>Oleksii Sheremet</td>\n",
       "      <td>https://towardsdatascience.com/@dynamic_phlox_...</td>\n",
       "      <td>None</td>\n",
       "      <td>https://towardsdatascience.com/intersection-ov...</td>\n",
       "      <td>Jul 24, 2020</td>\n",
       "      <td>3 min read</td>\n",
       "      <td>43</td>\n",
       "      <td>2 responses</td>\n",
       "    </tr>\n",
       "    <tr>\n",
       "      <th>40737</th>\n",
       "      <td>Sidney Kung</td>\n",
       "      <td>https://towardsdatascience.com/@sidneykung?sou...</td>\n",
       "      <td>None</td>\n",
       "      <td>https://towardsdatascience.com/adapting-data-s...</td>\n",
       "      <td>Nov 19, 2020</td>\n",
       "      <td>6 min read</td>\n",
       "      <td>192</td>\n",
       "      <td>None</td>\n",
       "    </tr>\n",
       "  </tbody>\n",
       "</table>\n",
       "</div>"
      ],
      "text/plain": [
       "                     author  \\\n",
       "28876  Irfan Alghani Khalid   \n",
       "41025              Rose Day   \n",
       "20910          Jo Stichbury   \n",
       "24640      Oleksii Sheremet   \n",
       "40737           Sidney Kung   \n",
       "\n",
       "                                     linkOfAuthorProfile articleTitle  \\\n",
       "28876  https://towardsdatascience.com/@irfanalghani11...         None   \n",
       "41025  https://towardsdatascience.com/@rjday?source=c...         None   \n",
       "20910  https://towardsdatascience.com/@fluffymaccoy?s...         None   \n",
       "24640  https://towardsdatascience.com/@dynamic_phlox_...         None   \n",
       "40737  https://towardsdatascience.com/@sidneykung?sou...         None   \n",
       "\n",
       "                                             articleLink   postingTime  \\\n",
       "28876  https://towardsdatascience.com/this-is-how-i-w...  May 12, 2020   \n",
       "41025  https://towardsdatascience.com/understanding-t...   Nov 7, 2020   \n",
       "20910  https://towardsdatascience.com/anzograph-a-w3c...   Feb 8, 2019   \n",
       "24640  https://towardsdatascience.com/intersection-ov...  Jul 24, 2020   \n",
       "40737  https://towardsdatascience.com/adapting-data-s...  Nov 19, 2020   \n",
       "\n",
       "        minToRead recommendations    responses  \n",
       "28876  4 min read             294   1 response  \n",
       "41025  6 min read              48         None  \n",
       "20910  7 min read              77         None  \n",
       "24640  3 min read              43  2 responses  \n",
       "40737  6 min read             192         None  "
      ]
     },
     "execution_count": 8,
     "metadata": {},
     "output_type": "execute_result"
    }
   ],
   "source": [
    "articles[articles['articleTitle'].isnull()].sample(5)"
   ]
  },
  {
   "cell_type": "markdown",
   "id": "3b43df79",
   "metadata": {},
   "source": [
    "### I inspected the 14376th entry and I decided to fill the column `articleTitle`'s null entries with segments from `articleLink`"
   ]
  },
  {
   "cell_type": "code",
   "execution_count": 9,
   "id": "9986a45b",
   "metadata": {},
   "outputs": [
    {
     "data": {
      "text/plain": [
       "'https://towardsdatascience.com/data-science-powered-segmentation-models-ae89f9bd405f?source=collection_archive---------6-----------------------'"
      ]
     },
     "execution_count": 9,
     "metadata": {},
     "output_type": "execute_result"
    }
   ],
   "source": [
    "link = articles.loc[14376].articleLink\n",
    "link"
   ]
  },
  {
   "cell_type": "code",
   "execution_count": 10,
   "id": "f66d2f33",
   "metadata": {},
   "outputs": [
    {
     "data": {
      "text/plain": [
       "'https://towardsdatascience.com/data-science-powered-segmentation-models-ae89f9bd405f'"
      ]
     },
     "execution_count": 10,
     "metadata": {},
     "output_type": "execute_result"
    }
   ],
   "source": [
    "pt1 = link.split(\"?\")[0]\n",
    "pt1"
   ]
  },
  {
   "cell_type": "code",
   "execution_count": 11,
   "id": "bba26f12",
   "metadata": {},
   "outputs": [
    {
     "data": {
      "text/plain": [
       "'data-science-powered-segmentation-models-ae89f9bd405f'"
      ]
     },
     "execution_count": 11,
     "metadata": {},
     "output_type": "execute_result"
    }
   ],
   "source": [
    "pt2 = pt1.split(\"/\")[-1]\n",
    "pt2"
   ]
  },
  {
   "cell_type": "code",
   "execution_count": 12,
   "id": "240e4023",
   "metadata": {},
   "outputs": [
    {
     "data": {
      "text/plain": [
       "['data', 'science', 'powered', 'segmentation', 'models']"
      ]
     },
     "execution_count": 12,
     "metadata": {},
     "output_type": "execute_result"
    }
   ],
   "source": [
    "pt3 = pt2.split(\"-\")[:-1]\n",
    "pt3"
   ]
  },
  {
   "cell_type": "code",
   "execution_count": 13,
   "id": "e09516ac",
   "metadata": {},
   "outputs": [
    {
     "data": {
      "text/plain": [
       "'data science powered segmentation models'"
      ]
     },
     "execution_count": 13,
     "metadata": {},
     "output_type": "execute_result"
    }
   ],
   "source": [
    "title = \" \".join(pt3)\n",
    "title"
   ]
  },
  {
   "cell_type": "markdown",
   "id": "14a5c573",
   "metadata": {},
   "source": [
    "### Merge the above operations and fill null entries in `articleTitle`"
   ]
  },
  {
   "cell_type": "code",
   "execution_count": 14,
   "id": "a43c979d",
   "metadata": {},
   "outputs": [],
   "source": [
    "articles['articleTitle'] = articles['articleTitle'].fillna(articles['articleLink'].apply(lambda x: \" \".join(x.split(\"?\")[0].split(\"/\")[-1].split(\"-\")[:-1])))"
   ]
  },
  {
   "cell_type": "markdown",
   "id": "6b5810d8",
   "metadata": {},
   "source": [
    "## Add `user_id` column with the same technique as above(find segments from `linkOfAuthorProfile`)"
   ]
  },
  {
   "cell_type": "code",
   "execution_count": 15,
   "id": "06b1d0ea",
   "metadata": {},
   "outputs": [
    {
     "data": {
      "text/plain": [
       "'https://towardsdatascience.com/@databeast?source=collection_archive---------3-----------------------'"
      ]
     },
     "execution_count": 15,
     "metadata": {},
     "output_type": "execute_result"
    }
   ],
   "source": [
    "# example link that contains `user_id`\n",
    "link = articles.loc[10].linkOfAuthorProfile\n",
    "link"
   ]
  },
  {
   "cell_type": "code",
   "execution_count": 16,
   "id": "3d3f7b95",
   "metadata": {},
   "outputs": [
    {
     "data": {
      "text/plain": [
       "'databeast'"
      ]
     },
     "execution_count": 16,
     "metadata": {},
     "output_type": "execute_result"
    }
   ],
   "source": [
    "link.split('?')[0].split('@')[-1]"
   ]
  },
  {
   "cell_type": "code",
   "execution_count": 17,
   "id": "e2523bfc",
   "metadata": {},
   "outputs": [],
   "source": [
    "articles['user_id'] = articles['linkOfAuthorProfile'].apply(lambda x: x.split('?')[0].split('@')[-1])"
   ]
  },
  {
   "cell_type": "markdown",
   "id": "b9af613a",
   "metadata": {},
   "source": [
    "## `postingTime` 's format is either like \"Aug 25, 2018\" for dates before 2021 or \"Jan 13\" for dates after 2021."
   ]
  },
  {
   "cell_type": "code",
   "execution_count": 18,
   "id": "6eb16039",
   "metadata": {},
   "outputs": [],
   "source": [
    "# Convert this year's data format in \"[Month] [day]\" to \"[Month] [day] [2021]\"\n",
    "def convert_date(x):\n",
    "    if ',' not in x:\n",
    "        x += ', 2021'\n",
    "    return x\n",
    "\n",
    "articles['postingTime'] = articles['postingTime'].apply(convert_date)\n",
    "\n",
    "# Convert the data format in \"[Month] [day] [year]\" to datetime format\n",
    "articles['postingTime'] = pd.to_datetime(articles['postingTime'], format='%b %d, %Y')"
   ]
  },
  {
   "cell_type": "markdown",
   "id": "942f636a",
   "metadata": {},
   "source": [
    "## `recommendations` columns have either under 1K(e.g. 221) or >=1K(e.g. 1.3K) or null values"
   ]
  },
  {
   "cell_type": "code",
   "execution_count": 19,
   "id": "822f0c43",
   "metadata": {},
   "outputs": [],
   "source": [
    "# Fill the null entries in \"recommendations\" with \"0\"\n",
    "articles['recommendations'].fillna('0', inplace=True)"
   ]
  },
  {
   "cell_type": "code",
   "execution_count": 20,
   "id": "0fb5e0a6",
   "metadata": {},
   "outputs": [],
   "source": [
    "# Format \"3.4K\" to \"3400\" and also transform from string to integer\n",
    "def convert_recommendations(x):\n",
    "    if x[-1] == 'K':\n",
    "        x = int(float(x[:-1]) * 1000)\n",
    "    else:\n",
    "        x = int(x)\n",
    "    return x\n",
    "\n",
    "articles['recommendations'] = articles['recommendations'].apply(convert_recommendations)"
   ]
  },
  {
   "cell_type": "markdown",
   "id": "649411b3",
   "metadata": {},
   "source": [
    "## `responses` column has either null values or values' format like \"2 responses\""
   ]
  },
  {
   "cell_type": "code",
   "execution_count": 21,
   "id": "d601443e",
   "metadata": {},
   "outputs": [],
   "source": [
    "# Fill the null entries in `responses` with \"0 response\"\n",
    "articles['responses'].fillna('0 response', inplace=True)"
   ]
  },
  {
   "cell_type": "code",
   "execution_count": 22,
   "id": "a5dc19ca",
   "metadata": {},
   "outputs": [],
   "source": [
    "# Extract the number and format from string to integer\n",
    "articles['responses'] = articles['responses'].str.split(' ').str[0].astype(int)"
   ]
  },
  {
   "cell_type": "markdown",
   "id": "206733a8",
   "metadata": {},
   "source": [
    "## `minToRead` column has format \"3 min read\""
   ]
  },
  {
   "cell_type": "code",
   "execution_count": 23,
   "id": "1d6e749e",
   "metadata": {},
   "outputs": [],
   "source": [
    "# Extract the number and format from string to integer\n",
    "articles['minToRead'] = articles['minToRead'].str.split(' ').str[0].astype(int)"
   ]
  },
  {
   "cell_type": "markdown",
   "id": "0acfaca2",
   "metadata": {},
   "source": [
    "# Data Preprocessing for `users` file"
   ]
  },
  {
   "cell_type": "code",
   "execution_count": 24,
   "id": "16a63a3b",
   "metadata": {},
   "outputs": [],
   "source": [
    "profiles = pd.read_json('raw_data/users/users_07_04_2021.json')"
   ]
  },
  {
   "cell_type": "code",
   "execution_count": 25,
   "id": "ad47b4d7",
   "metadata": {},
   "outputs": [
    {
     "data": {
      "text/plain": [
       "8000"
      ]
     },
     "execution_count": 25,
     "metadata": {},
     "output_type": "execute_result"
    }
   ],
   "source": [
    "len(profiles)"
   ]
  },
  {
   "cell_type": "markdown",
   "id": "546db8e6",
   "metadata": {},
   "source": [
    "## There are 11684 unique number of user ids collected from `articles` file but there are only 8000 users' profiles are collected"
   ]
  },
  {
   "cell_type": "code",
   "execution_count": 26,
   "id": "d07b7afc",
   "metadata": {},
   "outputs": [
    {
     "data": {
      "text/plain": [
       "11684"
      ]
     },
     "execution_count": 26,
     "metadata": {},
     "output_type": "execute_result"
    }
   ],
   "source": [
    "len(set(articles.user_id))"
   ]
  },
  {
   "cell_type": "markdown",
   "id": "9c27c9f2",
   "metadata": {},
   "source": [
    "## Select unique `user_id` and corresponding `author`"
   ]
  },
  {
   "cell_type": "code",
   "execution_count": 27,
   "id": "27310e7d",
   "metadata": {},
   "outputs": [],
   "source": [
    "users = articles[[\"user_id\", \"author\", \"linkOfAuthorProfile\"]]"
   ]
  },
  {
   "cell_type": "code",
   "execution_count": 28,
   "id": "cad44aa6",
   "metadata": {},
   "outputs": [],
   "source": [
    "users = users.drop_duplicates(subset=[\"user_id\"])"
   ]
  },
  {
   "cell_type": "code",
   "execution_count": 29,
   "id": "cf8e5eb1",
   "metadata": {},
   "outputs": [
    {
     "data": {
      "text/plain": [
       "11684"
      ]
     },
     "execution_count": 29,
     "metadata": {},
     "output_type": "execute_result"
    }
   ],
   "source": [
    "len(users)"
   ]
  },
  {
   "cell_type": "markdown",
   "id": "acc23e6c",
   "metadata": {},
   "source": [
    "## Because of the duplicated names, after merging, there are 100 more wrong entries"
   ]
  },
  {
   "cell_type": "code",
   "execution_count": 30,
   "id": "847e6409",
   "metadata": {},
   "outputs": [],
   "source": [
    "df = pd.merge(users, profiles, how=\"left\", left_on=\"author\", right_on=\"user_name\")"
   ]
  },
  {
   "cell_type": "code",
   "execution_count": 31,
   "id": "40433073",
   "metadata": {},
   "outputs": [
    {
     "data": {
      "text/html": [
       "<div>\n",
       "<style scoped>\n",
       "    .dataframe tbody tr th:only-of-type {\n",
       "        vertical-align: middle;\n",
       "    }\n",
       "\n",
       "    .dataframe tbody tr th {\n",
       "        vertical-align: top;\n",
       "    }\n",
       "\n",
       "    .dataframe thead th {\n",
       "        text-align: right;\n",
       "    }\n",
       "</style>\n",
       "<table border=\"1\" class=\"dataframe\">\n",
       "  <thead>\n",
       "    <tr style=\"text-align: right;\">\n",
       "      <th></th>\n",
       "      <th>user_id</th>\n",
       "      <th>author</th>\n",
       "      <th>linkOfAuthorProfile</th>\n",
       "      <th>user_name</th>\n",
       "      <th>desc</th>\n",
       "      <th>followers</th>\n",
       "    </tr>\n",
       "  </thead>\n",
       "  <tbody>\n",
       "    <tr>\n",
       "      <th>10719</th>\n",
       "      <td>srees1988</td>\n",
       "      <td>Sree</td>\n",
       "      <td>https://towardsdatascience.com/@srees1988?sour...</td>\n",
       "      <td>NaN</td>\n",
       "      <td>NaN</td>\n",
       "      <td>NaN</td>\n",
       "    </tr>\n",
       "    <tr>\n",
       "      <th>5278</th>\n",
       "      <td>ivana-15022</td>\n",
       "      <td>Ivana Kotorchevikj</td>\n",
       "      <td>https://towardsdatascience.com/@ivana-15022?so...</td>\n",
       "      <td>NaN</td>\n",
       "      <td>NaN</td>\n",
       "      <td>NaN</td>\n",
       "    </tr>\n",
       "    <tr>\n",
       "      <th>224</th>\n",
       "      <td>sethweidman</td>\n",
       "      <td>Seth Weidman</td>\n",
       "      <td>https://towardsdatascience.com/@sethweidman?so...</td>\n",
       "      <td>Seth Weidman</td>\n",
       "      <td>Became a data scientist to “use math to solve ...</td>\n",
       "      <td>992 Followers</td>\n",
       "    </tr>\n",
       "    <tr>\n",
       "      <th>7476</th>\n",
       "      <td>samdenlepcha</td>\n",
       "      <td>Samden Lepcha</td>\n",
       "      <td>https://towardsdatascience.com/@samdenlepcha?s...</td>\n",
       "      <td>NaN</td>\n",
       "      <td>NaN</td>\n",
       "      <td>NaN</td>\n",
       "    </tr>\n",
       "    <tr>\n",
       "      <th>702</th>\n",
       "      <td>paulbradshaw</td>\n",
       "      <td>Paul Bradshaw</td>\n",
       "      <td>https://towardsdatascience.com/@paulbradshaw?s...</td>\n",
       "      <td>NaN</td>\n",
       "      <td>NaN</td>\n",
       "      <td>NaN</td>\n",
       "    </tr>\n",
       "  </tbody>\n",
       "</table>\n",
       "</div>"
      ],
      "text/plain": [
       "            user_id              author  \\\n",
       "10719     srees1988                Sree   \n",
       "5278    ivana-15022  Ivana Kotorchevikj   \n",
       "224     sethweidman        Seth Weidman   \n",
       "7476   samdenlepcha       Samden Lepcha   \n",
       "702    paulbradshaw       Paul Bradshaw   \n",
       "\n",
       "                                     linkOfAuthorProfile     user_name  \\\n",
       "10719  https://towardsdatascience.com/@srees1988?sour...           NaN   \n",
       "5278   https://towardsdatascience.com/@ivana-15022?so...           NaN   \n",
       "224    https://towardsdatascience.com/@sethweidman?so...  Seth Weidman   \n",
       "7476   https://towardsdatascience.com/@samdenlepcha?s...           NaN   \n",
       "702    https://towardsdatascience.com/@paulbradshaw?s...           NaN   \n",
       "\n",
       "                                                    desc      followers  \n",
       "10719                                                NaN            NaN  \n",
       "5278                                                 NaN            NaN  \n",
       "224    Became a data scientist to “use math to solve ...  992 Followers  \n",
       "7476                                                 NaN            NaN  \n",
       "702                                                  NaN            NaN  "
      ]
     },
     "execution_count": 31,
     "metadata": {},
     "output_type": "execute_result"
    }
   ],
   "source": [
    "df.sample(5)"
   ]
  },
  {
   "cell_type": "code",
   "execution_count": 32,
   "id": "b334f294",
   "metadata": {},
   "outputs": [
    {
     "data": {
      "text/plain": [
       "11748"
      ]
     },
     "execution_count": 32,
     "metadata": {},
     "output_type": "execute_result"
    }
   ],
   "source": [
    "len(df)"
   ]
  },
  {
   "cell_type": "markdown",
   "id": "316dfdce",
   "metadata": {},
   "source": [
    "## I inspected all the duplicated `user_name` and deleted the wrong entries(I only showed the first inspection and omitted the output of all the other inspections)"
   ]
  },
  {
   "cell_type": "code",
   "execution_count": 33,
   "id": "bd223446",
   "metadata": {},
   "outputs": [
    {
     "data": {
      "text/plain": [
       "607       Gagandeep Singh\n",
       "2337        Aditya Sharma\n",
       "2944       Abhishek Kumar\n",
       "3339      Harshdeep Singh\n",
       "3888          Ofer Tirosh\n",
       "4006               Gaurav\n",
       "4015       Harshit Sharma\n",
       "4320           Shen Huang\n",
       "4343            An Nguyen\n",
       "4726           Salil Jain\n",
       "4766        Pranjal Gupta\n",
       "4881        Shubham Gupta\n",
       "4899         Bruno Santos\n",
       "5573          Sahil Gupta\n",
       "5932          Phoebe Wong\n",
       "5989          Ravi Ranjan\n",
       "6252                James\n",
       "6562       Abhishek Kumar\n",
       "7038        Nishant Sinha\n",
       "7059         Vishal Singh\n",
       "7329          Manu Sharma\n",
       "7358      Shekhar Koirala\n",
       "7411           Nick Jones\n",
       "7421               Justin\n",
       "7434           Wendy Wong\n",
       "7551            Jason Lee\n",
       "7578              Sue Liu\n",
       "7725            Christina\n",
       "7776        Mayank Mishra\n",
       "7887    Benjamin Peterson\n",
       "7949        Shikhar Gupta\n",
       "Name: user_name, dtype: object"
      ]
     },
     "execution_count": 33,
     "metadata": {},
     "output_type": "execute_result"
    }
   ],
   "source": [
    "duplicated = profiles[profiles.duplicated(subset=['user_name'])].user_name\n",
    "duplicated"
   ]
  },
  {
   "cell_type": "code",
   "execution_count": 34,
   "id": "15d694fb",
   "metadata": {},
   "outputs": [
    {
     "data": {
      "text/html": [
       "<div>\n",
       "<style scoped>\n",
       "    .dataframe tbody tr th:only-of-type {\n",
       "        vertical-align: middle;\n",
       "    }\n",
       "\n",
       "    .dataframe tbody tr th {\n",
       "        vertical-align: top;\n",
       "    }\n",
       "\n",
       "    .dataframe thead th {\n",
       "        text-align: right;\n",
       "    }\n",
       "</style>\n",
       "<table border=\"1\" class=\"dataframe\">\n",
       "  <thead>\n",
       "    <tr style=\"text-align: right;\">\n",
       "      <th></th>\n",
       "      <th>user_id</th>\n",
       "      <th>author</th>\n",
       "      <th>linkOfAuthorProfile</th>\n",
       "      <th>user_name</th>\n",
       "      <th>desc</th>\n",
       "      <th>followers</th>\n",
       "    </tr>\n",
       "  </thead>\n",
       "  <tbody>\n",
       "    <tr>\n",
       "      <th>3233</th>\n",
       "      <td>gaganmanku96</td>\n",
       "      <td>Gagandeep Singh</td>\n",
       "      <td>https://towardsdatascience.com/@gaganmanku96?s...</td>\n",
       "      <td>Gagandeep Singh</td>\n",
       "      <td>Data Scientist at Zykrr. Geeky —</td>\n",
       "      <td>578 Followers</td>\n",
       "    </tr>\n",
       "    <tr>\n",
       "      <th>3234</th>\n",
       "      <td>gaganmanku96</td>\n",
       "      <td>Gagandeep Singh</td>\n",
       "      <td>https://towardsdatascience.com/@gaganmanku96?s...</td>\n",
       "      <td>Gagandeep Singh</td>\n",
       "      <td>Big Data Engineer at WooliesX</td>\n",
       "      <td>74 Followers</td>\n",
       "    </tr>\n",
       "    <tr>\n",
       "      <th>4395</th>\n",
       "      <td>singh.gagandeep8</td>\n",
       "      <td>Gagandeep Singh</td>\n",
       "      <td>https://towardsdatascience.com/@singh.gagandee...</td>\n",
       "      <td>Gagandeep Singh</td>\n",
       "      <td>Data Scientist at Zykrr. Geeky —</td>\n",
       "      <td>578 Followers</td>\n",
       "    </tr>\n",
       "    <tr>\n",
       "      <th>4396</th>\n",
       "      <td>singh.gagandeep8</td>\n",
       "      <td>Gagandeep Singh</td>\n",
       "      <td>https://towardsdatascience.com/@singh.gagandee...</td>\n",
       "      <td>Gagandeep Singh</td>\n",
       "      <td>Big Data Engineer at WooliesX</td>\n",
       "      <td>74 Followers</td>\n",
       "    </tr>\n",
       "  </tbody>\n",
       "</table>\n",
       "</div>"
      ],
      "text/plain": [
       "               user_id           author  \\\n",
       "3233      gaganmanku96  Gagandeep Singh   \n",
       "3234      gaganmanku96  Gagandeep Singh   \n",
       "4395  singh.gagandeep8  Gagandeep Singh   \n",
       "4396  singh.gagandeep8  Gagandeep Singh   \n",
       "\n",
       "                                    linkOfAuthorProfile        user_name  \\\n",
       "3233  https://towardsdatascience.com/@gaganmanku96?s...  Gagandeep Singh   \n",
       "3234  https://towardsdatascience.com/@gaganmanku96?s...  Gagandeep Singh   \n",
       "4395  https://towardsdatascience.com/@singh.gagandee...  Gagandeep Singh   \n",
       "4396  https://towardsdatascience.com/@singh.gagandee...  Gagandeep Singh   \n",
       "\n",
       "                                   desc      followers  \n",
       "3233  Data Scientist at Zykrr. Geeky —   578 Followers  \n",
       "3234      Big Data Engineer at WooliesX   74 Followers  \n",
       "4395  Data Scientist at Zykrr. Geeky —   578 Followers  \n",
       "4396      Big Data Engineer at WooliesX   74 Followers  "
      ]
     },
     "execution_count": 34,
     "metadata": {},
     "output_type": "execute_result"
    }
   ],
   "source": [
    "df[df.author=='Gagandeep Singh']"
   ]
  },
  {
   "cell_type": "code",
   "execution_count": 35,
   "id": "97cac042",
   "metadata": {},
   "outputs": [],
   "source": [
    "df = df.drop(index=[3234, 4395])"
   ]
  },
  {
   "cell_type": "code",
   "execution_count": 36,
   "id": "bd5e5930",
   "metadata": {},
   "outputs": [],
   "source": [
    "# df[df.author=='Aditya Sharma']"
   ]
  },
  {
   "cell_type": "code",
   "execution_count": 37,
   "id": "e74b01f9",
   "metadata": {},
   "outputs": [],
   "source": [
    "df = df.drop(index=[2474, 8620])"
   ]
  },
  {
   "cell_type": "code",
   "execution_count": 38,
   "id": "124bd753",
   "metadata": {},
   "outputs": [],
   "source": [
    "# df[df.author=='Abhishek Kumar']"
   ]
  },
  {
   "cell_type": "code",
   "execution_count": 39,
   "id": "486c2753",
   "metadata": {},
   "outputs": [],
   "source": [
    "df = df.drop(index=[6811, 6813, 2828, 4363, 4364, 2827, 2828])"
   ]
  },
  {
   "cell_type": "code",
   "execution_count": 40,
   "id": "a5090087",
   "metadata": {},
   "outputs": [],
   "source": [
    "# df[df.author=='Harshdeep Singh']"
   ]
  },
  {
   "cell_type": "code",
   "execution_count": 41,
   "id": "b7d9bcf6",
   "metadata": {},
   "outputs": [],
   "source": [
    "df = df.drop(index=[1180, 3498])"
   ]
  },
  {
   "cell_type": "code",
   "execution_count": 42,
   "id": "8fa5b975",
   "metadata": {},
   "outputs": [],
   "source": [
    "# df[df.author=='Ofer Tirosh']"
   ]
  },
  {
   "cell_type": "code",
   "execution_count": 43,
   "id": "970ce00e",
   "metadata": {},
   "outputs": [],
   "source": [
    "df = df.drop(index=[3507, 7540])"
   ]
  },
  {
   "cell_type": "markdown",
   "id": "15ff1b89",
   "metadata": {},
   "source": [
    "## During inspections I also found some profiles' description wasn't collected so I filled them manually"
   ]
  },
  {
   "cell_type": "code",
   "execution_count": 44,
   "id": "1f5d1cca",
   "metadata": {},
   "outputs": [],
   "source": [
    "df.loc[3506].desc = \"CEO and Founder of Tomedes, a professional services provider to Fortune 500 companies around the world specializing in localization and translation.\""
   ]
  },
  {
   "cell_type": "code",
   "execution_count": 45,
   "id": "e505f8fa",
   "metadata": {},
   "outputs": [],
   "source": [
    "# df[df.author=='Gaurav']"
   ]
  },
  {
   "cell_type": "code",
   "execution_count": 46,
   "id": "09f36878",
   "metadata": {},
   "outputs": [],
   "source": [
    "df = df.drop(index=[256, 3993])"
   ]
  },
  {
   "cell_type": "code",
   "execution_count": 47,
   "id": "e367076d",
   "metadata": {},
   "outputs": [],
   "source": [
    "df.loc[257].desc = \"Editor of TapTechie Publication and Tech@Breno\""
   ]
  },
  {
   "cell_type": "code",
   "execution_count": 48,
   "id": "33f7c4e9",
   "metadata": {},
   "outputs": [],
   "source": [
    "# df[df.author=='Harshit Sharma']"
   ]
  },
  {
   "cell_type": "code",
   "execution_count": 49,
   "id": "bca3e3d7",
   "metadata": {},
   "outputs": [],
   "source": [
    "df = df.drop(index=[384, 830])"
   ]
  },
  {
   "cell_type": "code",
   "execution_count": 50,
   "id": "d59d82dc",
   "metadata": {},
   "outputs": [],
   "source": [
    "# df[df.author=='Shen Huang']"
   ]
  },
  {
   "cell_type": "code",
   "execution_count": 51,
   "id": "9f1b94f0",
   "metadata": {},
   "outputs": [],
   "source": [
    "df = df.drop(index=[3779, 5970])"
   ]
  },
  {
   "cell_type": "code",
   "execution_count": 52,
   "id": "c52ca437",
   "metadata": {},
   "outputs": [],
   "source": [
    "# df[df.author=='An Nguyen']"
   ]
  },
  {
   "cell_type": "code",
   "execution_count": 53,
   "id": "1a8491e4",
   "metadata": {},
   "outputs": [],
   "source": [
    "df = df.drop(index=[955, 6053])"
   ]
  },
  {
   "cell_type": "code",
   "execution_count": 54,
   "id": "69af24b3",
   "metadata": {},
   "outputs": [],
   "source": [
    "# df[df.author=='Salil Jain']"
   ]
  },
  {
   "cell_type": "code",
   "execution_count": 55,
   "id": "27e4d6f1",
   "metadata": {},
   "outputs": [],
   "source": [
    "df = df.drop(index=[328, 7938])"
   ]
  },
  {
   "cell_type": "code",
   "execution_count": 56,
   "id": "6210de76",
   "metadata": {},
   "outputs": [],
   "source": [
    "# df[df.author=='Pranjal Gupta']"
   ]
  },
  {
   "cell_type": "code",
   "execution_count": 57,
   "id": "65dd447d",
   "metadata": {},
   "outputs": [],
   "source": [
    "df = df.drop(index=[6699, 8601])"
   ]
  },
  {
   "cell_type": "code",
   "execution_count": 58,
   "id": "8fa25213",
   "metadata": {},
   "outputs": [],
   "source": [
    "# df[df.author=='Shubham Gupta']"
   ]
  },
  {
   "cell_type": "code",
   "execution_count": 59,
   "id": "364d88b2",
   "metadata": {},
   "outputs": [],
   "source": [
    "df = df.drop(index=[8120, 8820])"
   ]
  },
  {
   "cell_type": "code",
   "execution_count": 60,
   "id": "09094cd3",
   "metadata": {},
   "outputs": [],
   "source": [
    "# df[df.author=='Bruno Santos']"
   ]
  },
  {
   "cell_type": "code",
   "execution_count": 61,
   "id": "3069b067",
   "metadata": {},
   "outputs": [],
   "source": [
    "df = df.drop(index=[2628, 4611])"
   ]
  },
  {
   "cell_type": "code",
   "execution_count": 62,
   "id": "b4e2fafb",
   "metadata": {},
   "outputs": [],
   "source": [
    "# df[df.author=='Sahil Gupta']"
   ]
  },
  {
   "cell_type": "code",
   "execution_count": 63,
   "id": "864b3f31",
   "metadata": {},
   "outputs": [],
   "source": [
    "df = df.drop(index=[3909, 8190])"
   ]
  },
  {
   "cell_type": "code",
   "execution_count": 64,
   "id": "4fc1ae2b",
   "metadata": {},
   "outputs": [],
   "source": [
    "# df[df.author=='Phoebe Wong']"
   ]
  },
  {
   "cell_type": "code",
   "execution_count": 65,
   "id": "89f45ea7",
   "metadata": {},
   "outputs": [],
   "source": [
    "df = df.drop(index=[4299, 5801])"
   ]
  },
  {
   "cell_type": "code",
   "execution_count": 66,
   "id": "66469638",
   "metadata": {},
   "outputs": [],
   "source": [
    "# df[df.author=='Ravi Ranjan']"
   ]
  },
  {
   "cell_type": "code",
   "execution_count": 67,
   "id": "09d3f118",
   "metadata": {},
   "outputs": [],
   "source": [
    "df = df.drop(index=[938, 3237])"
   ]
  },
  {
   "cell_type": "code",
   "execution_count": 68,
   "id": "2cf3cf1c",
   "metadata": {},
   "outputs": [],
   "source": [
    "# df[df.author=='James']"
   ]
  },
  {
   "cell_type": "code",
   "execution_count": 69,
   "id": "f4255710",
   "metadata": {},
   "outputs": [],
   "source": [
    "df = df.drop(index=[331, 8613])"
   ]
  },
  {
   "cell_type": "code",
   "execution_count": 70,
   "id": "00d2a150",
   "metadata": {},
   "outputs": [],
   "source": [
    "# df[df.author=='Nishant Sinha']"
   ]
  },
  {
   "cell_type": "code",
   "execution_count": 71,
   "id": "74f8da3d",
   "metadata": {},
   "outputs": [],
   "source": [
    "df = df.drop(index=[213, 2663])"
   ]
  },
  {
   "cell_type": "code",
   "execution_count": 72,
   "id": "f7376587",
   "metadata": {},
   "outputs": [],
   "source": [
    "# df[df.author=='Vishal Singh']"
   ]
  },
  {
   "cell_type": "code",
   "execution_count": 73,
   "id": "ed551a48",
   "metadata": {},
   "outputs": [],
   "source": [
    "df = df.drop(index=[1002, 1623])"
   ]
  },
  {
   "cell_type": "code",
   "execution_count": 74,
   "id": "19657d1d",
   "metadata": {},
   "outputs": [],
   "source": [
    "df.loc[1001].desc = 'Medium member since August 2020'"
   ]
  },
  {
   "cell_type": "code",
   "execution_count": 75,
   "id": "c0ee4236",
   "metadata": {},
   "outputs": [],
   "source": [
    "# df[df.author=='Manu Sharma']"
   ]
  },
  {
   "cell_type": "code",
   "execution_count": 76,
   "id": "992f2801",
   "metadata": {},
   "outputs": [],
   "source": [
    "df = df.drop(index=[4068, 5522])"
   ]
  },
  {
   "cell_type": "code",
   "execution_count": 77,
   "id": "41a1797b",
   "metadata": {},
   "outputs": [],
   "source": [
    "# df[df.author=='Shekhar Koirala']"
   ]
  },
  {
   "cell_type": "code",
   "execution_count": 78,
   "id": "fa25c27e",
   "metadata": {},
   "outputs": [],
   "source": [
    "df = df.drop(index=[894, 1652])"
   ]
  },
  {
   "cell_type": "code",
   "execution_count": 79,
   "id": "29f97dcb",
   "metadata": {},
   "outputs": [],
   "source": [
    "# df[df.author=='Nick Jones']"
   ]
  },
  {
   "cell_type": "code",
   "execution_count": 80,
   "id": "2cc720cf",
   "metadata": {},
   "outputs": [],
   "source": [
    "df = df.drop(index=[1054, 2063])"
   ]
  },
  {
   "cell_type": "code",
   "execution_count": 81,
   "id": "89ae156d",
   "metadata": {},
   "outputs": [],
   "source": [
    "# df[df.author=='Justin']"
   ]
  },
  {
   "cell_type": "code",
   "execution_count": 82,
   "id": "945ee416",
   "metadata": {},
   "outputs": [],
   "source": [
    "df = df.drop(index=[2371, 5415])"
   ]
  },
  {
   "cell_type": "code",
   "execution_count": 83,
   "id": "1ece71a9",
   "metadata": {},
   "outputs": [],
   "source": [
    "df.loc[2372].desc=\"Hello, world! My name is Justin. I solve problems using data. Check me out at embracingtherandom.com and linkedin.com/in/justin-m-evans/\""
   ]
  },
  {
   "cell_type": "code",
   "execution_count": 84,
   "id": "082d8ade",
   "metadata": {},
   "outputs": [],
   "source": [
    "# df[df.author=='Wendy Wong']"
   ]
  },
  {
   "cell_type": "code",
   "execution_count": 85,
   "id": "7ebc1d33",
   "metadata": {},
   "outputs": [],
   "source": [
    "df = df.drop(index=[1519, 4695])"
   ]
  },
  {
   "cell_type": "code",
   "execution_count": 86,
   "id": "ad25e7a2",
   "metadata": {},
   "outputs": [],
   "source": [
    "# df[df.author=='Jason Lee']"
   ]
  },
  {
   "cell_type": "code",
   "execution_count": 87,
   "id": "fcce05d2",
   "metadata": {},
   "outputs": [],
   "source": [
    "df = df.drop(index=[3501, 8042])"
   ]
  },
  {
   "cell_type": "code",
   "execution_count": 88,
   "id": "8c42d801",
   "metadata": {},
   "outputs": [],
   "source": [
    "# df[df.author=='Sue Liu']"
   ]
  },
  {
   "cell_type": "code",
   "execution_count": 89,
   "id": "165357a5",
   "metadata": {},
   "outputs": [],
   "source": [
    "df = df.drop(index=[1537, 7131])"
   ]
  },
  {
   "cell_type": "code",
   "execution_count": 90,
   "id": "aabf8e82",
   "metadata": {},
   "outputs": [],
   "source": [
    "# df[df.author=='Christina']"
   ]
  },
  {
   "cell_type": "code",
   "execution_count": 91,
   "id": "63508495",
   "metadata": {},
   "outputs": [],
   "source": [
    "df = df.drop(index=[932, 8556])"
   ]
  },
  {
   "cell_type": "code",
   "execution_count": 92,
   "id": "411596e5",
   "metadata": {},
   "outputs": [],
   "source": [
    "# df[df.author=='Mayank Mishra']"
   ]
  },
  {
   "cell_type": "code",
   "execution_count": 93,
   "id": "3e843bdd",
   "metadata": {},
   "outputs": [],
   "source": [
    "df = df.drop(index=[7293, 7555])"
   ]
  },
  {
   "cell_type": "code",
   "execution_count": 94,
   "id": "9f64aa0e",
   "metadata": {},
   "outputs": [],
   "source": [
    "# df[df.author=='Benjamin Peterson']"
   ]
  },
  {
   "cell_type": "code",
   "execution_count": 95,
   "id": "abb25ae8",
   "metadata": {},
   "outputs": [],
   "source": [
    "df = df.drop(index=[3511, 6446])"
   ]
  },
  {
   "cell_type": "code",
   "execution_count": 96,
   "id": "03b582b0",
   "metadata": {},
   "outputs": [],
   "source": [
    "# df[df.author=='Shikhar Gupta']"
   ]
  },
  {
   "cell_type": "code",
   "execution_count": 97,
   "id": "7c9914fb",
   "metadata": {},
   "outputs": [],
   "source": [
    "df = df.drop(index=[47, 6058])"
   ]
  },
  {
   "cell_type": "markdown",
   "id": "01f3b1f7",
   "metadata": {},
   "source": [
    "## Now there are no duplicated wrong entries!!! I also dropped the duplicated column `user_name`"
   ]
  },
  {
   "cell_type": "code",
   "execution_count": 98,
   "id": "78a2cd7d",
   "metadata": {},
   "outputs": [
    {
     "data": {
      "text/html": [
       "<div>\n",
       "<style scoped>\n",
       "    .dataframe tbody tr th:only-of-type {\n",
       "        vertical-align: middle;\n",
       "    }\n",
       "\n",
       "    .dataframe tbody tr th {\n",
       "        vertical-align: top;\n",
       "    }\n",
       "\n",
       "    .dataframe thead th {\n",
       "        text-align: right;\n",
       "    }\n",
       "</style>\n",
       "<table border=\"1\" class=\"dataframe\">\n",
       "  <thead>\n",
       "    <tr style=\"text-align: right;\">\n",
       "      <th></th>\n",
       "      <th>user_id</th>\n",
       "      <th>author</th>\n",
       "      <th>linkOfAuthorProfile</th>\n",
       "      <th>user_name</th>\n",
       "      <th>desc</th>\n",
       "      <th>followers</th>\n",
       "    </tr>\n",
       "  </thead>\n",
       "  <tbody>\n",
       "  </tbody>\n",
       "</table>\n",
       "</div>"
      ],
      "text/plain": [
       "Empty DataFrame\n",
       "Columns: [user_id, author, linkOfAuthorProfile, user_name, desc, followers]\n",
       "Index: []"
      ]
     },
     "execution_count": 98,
     "metadata": {},
     "output_type": "execute_result"
    }
   ],
   "source": [
    "df[df.duplicated(subset=[\"user_id\"])]"
   ]
  },
  {
   "cell_type": "code",
   "execution_count": 99,
   "id": "3dd8878d",
   "metadata": {},
   "outputs": [
    {
     "data": {
      "text/plain": [
       "11684"
      ]
     },
     "execution_count": 99,
     "metadata": {},
     "output_type": "execute_result"
    }
   ],
   "source": [
    "len(df)"
   ]
  },
  {
   "cell_type": "code",
   "execution_count": 100,
   "id": "1e0ef1c5",
   "metadata": {},
   "outputs": [],
   "source": [
    "df = df.drop(columns=\"user_name\")"
   ]
  },
  {
   "cell_type": "markdown",
   "id": "1dcf6093",
   "metadata": {},
   "source": [
    "## `followers` column has null values or that format \"552 followers\""
   ]
  },
  {
   "cell_type": "code",
   "execution_count": 101,
   "id": "fb16091c",
   "metadata": {},
   "outputs": [],
   "source": [
    "# Change the 'null' entries to '0 follower'\n",
    "df['followers'].fillna('0 follower', inplace=True)"
   ]
  },
  {
   "cell_type": "code",
   "execution_count": 102,
   "id": "f9270912",
   "metadata": {},
   "outputs": [],
   "source": [
    "# Transform the format from \"[num] follower(s)\" to \"num\" in integer\n",
    "df['followers'] = df['followers'].str.split(' ').str[0]"
   ]
  },
  {
   "cell_type": "code",
   "execution_count": 103,
   "id": "b12d77a7",
   "metadata": {},
   "outputs": [],
   "source": [
    "# Format \"3.4K\" to \"3400\" and convert string to integer\n",
    "def convert_followers(x):\n",
    "        if x[-1] == 'K':\n",
    "            x = int(float(x[:-1]) * 1000)\n",
    "        else:\n",
    "            x = int(x)\n",
    "        return x\n",
    "\n",
    "df['followers'] = df['followers'].apply(convert_followers)"
   ]
  },
  {
   "cell_type": "code",
   "execution_count": 104,
   "id": "a3f86a53",
   "metadata": {},
   "outputs": [
    {
     "data": {
      "text/html": [
       "<div>\n",
       "<style scoped>\n",
       "    .dataframe tbody tr th:only-of-type {\n",
       "        vertical-align: middle;\n",
       "    }\n",
       "\n",
       "    .dataframe tbody tr th {\n",
       "        vertical-align: top;\n",
       "    }\n",
       "\n",
       "    .dataframe thead th {\n",
       "        text-align: right;\n",
       "    }\n",
       "</style>\n",
       "<table border=\"1\" class=\"dataframe\">\n",
       "  <thead>\n",
       "    <tr style=\"text-align: right;\">\n",
       "      <th></th>\n",
       "      <th>user_id</th>\n",
       "      <th>author</th>\n",
       "      <th>linkOfAuthorProfile</th>\n",
       "      <th>desc</th>\n",
       "      <th>followers</th>\n",
       "    </tr>\n",
       "  </thead>\n",
       "  <tbody>\n",
       "    <tr>\n",
       "      <th>9868</th>\n",
       "      <td>jeffrey-scholz</td>\n",
       "      <td>Jeffrey Scholz</td>\n",
       "      <td>https://towardsdatascience.com/@jeffrey-scholz...</td>\n",
       "      <td>NaN</td>\n",
       "      <td>0</td>\n",
       "    </tr>\n",
       "    <tr>\n",
       "      <th>6702</th>\n",
       "      <td>dlite</td>\n",
       "      <td>Derek Haynes</td>\n",
       "      <td>https://towardsdatascience.com/@dlite?source=c...</td>\n",
       "      <td>Working on</td>\n",
       "      <td>336</td>\n",
       "    </tr>\n",
       "    <tr>\n",
       "      <th>1253</th>\n",
       "      <td>leofle</td>\n",
       "      <td>Lio Fleishman</td>\n",
       "      <td>https://towardsdatascience.com/@leofle?source=...</td>\n",
       "      <td>Partnership Solutions Engineer at Sisense , th...</td>\n",
       "      <td>22</td>\n",
       "    </tr>\n",
       "    <tr>\n",
       "      <th>3366</th>\n",
       "      <td>tolaniadekoya</td>\n",
       "      <td>Tolani Adekoya</td>\n",
       "      <td>https://towardsdatascience.com/@tolaniadekoya?...</td>\n",
       "      <td>NaN</td>\n",
       "      <td>0</td>\n",
       "    </tr>\n",
       "    <tr>\n",
       "      <th>11435</th>\n",
       "      <td>colefp</td>\n",
       "      <td>Cole</td>\n",
       "      <td>https://towardsdatascience.com/@colefp?source=...</td>\n",
       "      <td>NaN</td>\n",
       "      <td>0</td>\n",
       "    </tr>\n",
       "  </tbody>\n",
       "</table>\n",
       "</div>"
      ],
      "text/plain": [
       "              user_id          author  \\\n",
       "9868   jeffrey-scholz  Jeffrey Scholz   \n",
       "6702            dlite    Derek Haynes   \n",
       "1253           leofle   Lio Fleishman   \n",
       "3366    tolaniadekoya  Tolani Adekoya   \n",
       "11435          colefp            Cole   \n",
       "\n",
       "                                     linkOfAuthorProfile  \\\n",
       "9868   https://towardsdatascience.com/@jeffrey-scholz...   \n",
       "6702   https://towardsdatascience.com/@dlite?source=c...   \n",
       "1253   https://towardsdatascience.com/@leofle?source=...   \n",
       "3366   https://towardsdatascience.com/@tolaniadekoya?...   \n",
       "11435  https://towardsdatascience.com/@colefp?source=...   \n",
       "\n",
       "                                                    desc  followers  \n",
       "9868                                                 NaN          0  \n",
       "6702                                         Working on         336  \n",
       "1253   Partnership Solutions Engineer at Sisense , th...         22  \n",
       "3366                                                 NaN          0  \n",
       "11435                                                NaN          0  "
      ]
     },
     "execution_count": 104,
     "metadata": {},
     "output_type": "execute_result"
    }
   ],
   "source": [
    "df.sample(5)"
   ]
  },
  {
   "cell_type": "markdown",
   "id": "528eeefc",
   "metadata": {},
   "source": [
    "# Export the cleaned data to csv files"
   ]
  },
  {
   "cell_type": "code",
   "execution_count": 105,
   "id": "9e7cf25e",
   "metadata": {},
   "outputs": [],
   "source": [
    "df.to_csv(\"cleaned_data/users/users_07_04_2021.csv\", index=False)"
   ]
  },
  {
   "cell_type": "code",
   "execution_count": 106,
   "id": "8678df64",
   "metadata": {},
   "outputs": [],
   "source": [
    "articles = articles.drop(columns=[\"author\", \"linkOfAuthorProfile\"])\n",
    "articles.to_csv(\"cleaned_data/articles/articles_07_04_2021.csv\", index=False)"
   ]
  }
 ],
 "metadata": {
  "kernelspec": {
   "display_name": "Python [conda env:root] *",
   "language": "python",
   "name": "conda-root-py"
  },
  "language_info": {
   "codemirror_mode": {
    "name": "ipython",
    "version": 3
   },
   "file_extension": ".py",
   "mimetype": "text/x-python",
   "name": "python",
   "nbconvert_exporter": "python",
   "pygments_lexer": "ipython3",
   "version": "3.7.4"
  }
 },
 "nbformat": 4,
 "nbformat_minor": 5
}
